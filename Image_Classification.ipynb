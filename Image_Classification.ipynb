{
  "cells": [
    {
      "cell_type": "code",
      "execution_count": null,
      "metadata": {
        "colab": {
          "base_uri": "https://localhost:8080/"
        },
        "id": "MLyjaEKo_k3T",
        "outputId": "fe7fb14a-d4af-482d-8bd6-2f0000413985"
      },
      "outputs": [],
      "source": [
        "# It will tell us how many time it will take a singel cell\n",
        "!pip install ipython-autotime\n",
        "%load_ext autotime"
      ]
    },
    {
      "cell_type": "code",
      "execution_count": null,
      "metadata": {
        "id": "0UYsscI5zcVQ"
      },
      "outputs": [],
      "source": [
        "# Data : Images\n",
        "# Download dataset from kaggle.com\n",
        "# Buil a Image Web Crawler\n",
        "#"
      ]
    },
    {
      "cell_type": "code",
      "execution_count": null,
      "metadata": {
        "colab": {
          "base_uri": "https://localhost:8080/"
        },
        "id": "GlW4iEGr6Nkm",
        "outputId": "ff3f3be5-3ce5-44bc-bf46-e94c131a05bc"
      },
      "outputs": [],
      "source": [
        "!pip install bing-image-downloader"
      ]
    },
    {
      "cell_type": "code",
      "execution_count": 2,
      "metadata": {
        "id": "U6MZid5L64y8"
      },
      "outputs": [],
      "source": [
        "!mkdir images"
      ]
    },
    {
      "cell_type": "code",
      "execution_count": null,
      "metadata": {
        "colab": {
          "base_uri": "https://localhost:8080/"
        },
        "id": "H7Y95wCL7JbV",
        "outputId": "5f416d84-c4d5-4d86-f486-94921bc6b80f"
      },
      "outputs": [],
      "source": [
        "from bing_image_downloader import downloader\n",
        "downloader.download(\"pretty sunflower\", limit = 30,output_dir = 'images', adult_filter_off= True)"
      ]
    },
    {
      "cell_type": "code",
      "execution_count": null,
      "metadata": {
        "colab": {
          "base_uri": "https://localhost:8080/"
        },
        "id": "edLUU-dW9utG",
        "outputId": "6d71cc1e-8a8f-486e-c811-abadfa890e40"
      },
      "outputs": [],
      "source": [
        "downloader.download(\"rugby ball leather\", limit = 30,output_dir = 'images', adult_filter_off= True)"
      ]
    },
    {
      "cell_type": "code",
      "execution_count": null,
      "metadata": {
        "colab": {
          "base_uri": "https://localhost:8080/"
        },
        "id": "vTSc0ACF-qUk",
        "outputId": "1e7bba0c-69b8-46d8-8179-13d2fdc871da"
      },
      "outputs": [],
      "source": [
        "downloader.download(\"ice cream cone\", limit = 30,output_dir = 'images', adult_filter_off= True)"
      ]
    }
  ],
  "metadata": {
    "colab": {
      "provenance": []
    },
    "kernelspec": {
      "display_name": "Python 3",
      "name": "python3"
    },
    "language_info": {
      "name": "python"
    }
  },
  "nbformat": 4,
  "nbformat_minor": 0
}
