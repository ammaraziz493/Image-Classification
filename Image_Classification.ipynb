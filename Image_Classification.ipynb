{
  "cells": [
    {
      "cell_type": "code",
      "execution_count": null,
      "metadata": {
        "colab": {
          "base_uri": "https://localhost:8080/"
        },
        "id": "MLyjaEKo_k3T",
        "outputId": "fe7fb14a-d4af-482d-8bd6-2f0000413985"
      },
      "outputs": [],
      "source": [
        "# It will tell us how many time it will take a singel cell\n",
        "!pip install ipython-autotime\n",
        "%load_ext autotime"
      ]
    },
    {
      "cell_type": "code",
      "execution_count": null,
      "metadata": {
        "id": "0UYsscI5zcVQ"
      },
      "outputs": [],
      "source": [
        "# Data : Images\n",
        "# Download dataset from kaggle.com\n",
        "# Buil a Image Web Crawler\n",
        "#"
      ]
    },
    {
      "cell_type": "code",
      "execution_count": null,
      "metadata": {
        "colab": {
          "base_uri": "https://localhost:8080/"
        },
        "id": "GlW4iEGr6Nkm",
        "outputId": "ff3f3be5-3ce5-44bc-bf46-e94c131a05bc"
      },
      "outputs": [],
      "source": [
        "!pip install bing-image-downloader"
      ]
    },
    {
      "cell_type": "code",
      "execution_count": 2,
      "metadata": {
        "id": "U6MZid5L64y8"
      },
      "outputs": [],
      "source": [
        "!mkdir images"
      ]
    },
    {
      "cell_type": "code",
      "execution_count": null,
      "metadata": {},
      "outputs": [],
      "source": [
        "# It will tell us how many time it will take a singel cell\n",
        "!pip install ipython-autotime\n",
        "%load_ext autotime"
      ]
    },
    {
      "cell_type": "code",
      "execution_count": null,
      "metadata": {},
      "outputs": [],
      "source": [
        "# Data : Images\n",
        "# Download dataset from kaggle.com\n",
        "# Buil a Image Web Crawler\n",
        "#"
      ]
    },
    {
      "cell_type": "code",
      "execution_count": null,
      "metadata": {},
      "outputs": [],
      "source": [
        "!pip install bing-image-downloader"
      ]
    },
    {
      "cell_type": "code",
      "execution_count": null,
      "metadata": {},
      "outputs": [],
      "source": [
        "!mkdir images"
      ]
    },
    {
      "cell_type": "code",
      "execution_count": null,
      "metadata": {},
      "outputs": [],
      "source": [
        "from bing_image_downloader import downloader\n",
        "downloader.download(\"pretty sunflower\", limit = 30,output_dir = 'images', adult_filter_off= True)"
      ]
    },
    {
      "cell_type": "code",
      "execution_count": null,
      "metadata": {},
      "outputs": [],
      "source": [
        "downloader.download(\"rugby ball leather\", limit = 30,output_dir = 'images', adult_filter_off= True)"
      ]
    },
    {
      "cell_type": "code",
      "execution_count": null,
      "metadata": {},
      "outputs": [],
      "source": [
        "downloader.download(\"ice cream cone\", limit = 30,output_dir = 'images', adult_filter_off= True)"
      ]
    },
    {
      "cell_type": "code",
      "execution_count": null,
      "metadata": {},
      "outputs": [
        {
          "data": {
            "text/plain": [
              "2"
            ]
          },
          "metadata": {},
          "output_type": "display_data"
        },
        {
          "name": "stdout",
          "output_type": "stream",
          "text": [
            "time: 3.53 ms (started: 2023-12-07 16:41:35 +00:00)\n"
          ]
        }
      ],
      "source": [
        "import numpy as np\n",
        "\n",
        "a = np.array([[1,2,3,4],\n",
        "              [4,5,6,7]])\n",
        "a.ndim"
      ]
    },
    {
      "cell_type": "code",
      "execution_count": null,
      "metadata": {},
      "outputs": [
        {
          "data": {
            "text/plain": [
              "array([1, 2, 3, 4, 4, 5, 6, 7])"
            ]
          },
          "metadata": {},
          "output_type": "display_data"
        },
        {
          "name": "stdout",
          "output_type": "stream",
          "text": [
            "time: 4.19 ms (started: 2023-12-07 16:42:36 +00:00)\n"
          ]
        }
      ],
      "source": [
        "# How to convert Matrix ot Vector? - flatten()\n",
        "a.flatten()\n"
      ]
    },
    {
      "cell_type": "code",
      "execution_count": null,
      "metadata": {},
      "outputs": [
        {
          "name": "stdout",
          "output_type": "stream",
          "text": [
            "time: 45.9 s (started: 2023-12-07 17:18:52 +00:00)\n"
          ]
        }
      ],
      "source": [
        "# Preprocessing\n",
        "# Resize\n",
        "# Flatten\n",
        "\n",
        "import os # for using mutiple folders\n",
        "import matplotlib.pyplot as plt # For displaying the images\n",
        "import numpy as np\n",
        "from skimage.io import imread # Reading Image\n",
        "from skimage.transform import resize # Specific Size\n",
        "\n",
        "target = [] # output\n",
        "images = [] # Images are always in the form of matrix\n",
        "flat_data = [] # so we flatten the images to make it a vector\n",
        "\n",
        "DATADIR = '/content/images'\n",
        "CATEGORIES = ['pretty sunflower', 'rugby ball leather', 'ice cream cone']\n",
        "for category in CATEGORIES:\n",
        "  class_num = CATEGORIES.index(category) # Label Encoding the Values\n",
        "  path = os.path.join(DATADIR, category) # Create path to use all the images\n",
        "  # print(path)\n",
        "  for img in os.listdir(path):\n",
        "    img_array =imread(os.path.join(path, img))\n",
        "    # print(img_array) # Matrx score\n",
        "    # print(img_array.shape)\n",
        "    # plt.imshow(img_array) # it will print all the images\n",
        "    # break # we use break to print only one image\n",
        "    img_resized = resize(img_array,(150,150,3)) # (hieght=150, witdh, depth) # Normalize the value form 0 to 1\n",
        "    flat_data.append(img_resized.flatten()) # flatten the image\n",
        "    images.append(img_resized)\n",
        "    target.append(class_num)\n",
        "\n",
        "# convet into numpy array so it is easy to iterate\n",
        "flat_data = np.array(flat_data)\n",
        "target = np.array(target)\n",
        "images = np.array(images)\n"
      ]
    },
    {
      "cell_type": "code",
      "execution_count": null,
      "metadata": {},
      "outputs": [
        {
          "data": {
            "text/plain": [
              "array([0.20708708, 0.31251629, 0.29476484, ..., 0.73821422, 0.79892366,\n",
              "       0.67871814])"
            ]
          },
          "metadata": {},
          "output_type": "display_data"
        },
        {
          "name": "stdout",
          "output_type": "stream",
          "text": [
            "time: 3.6 ms (started: 2023-12-07 17:20:20 +00:00)\n"
          ]
        }
      ],
      "source": [
        "flat_data[0]"
      ]
    },
    {
      "cell_type": "code",
      "execution_count": null,
      "metadata": {},
      "outputs": [
        {
          "data": {
            "text/plain": [
              "array([0, 0, 0, 0, 0, 0, 0, 0, 0, 0, 0, 0, 0, 0, 0, 0, 0, 0, 0, 0, 0, 0,\n",
              "       0, 0, 0, 0, 0, 0, 0, 0, 1, 1, 1, 1, 1, 1, 1, 1, 1, 1, 1, 1, 1, 1,\n",
              "       1, 1, 1, 1, 1, 1, 1, 1, 1, 1, 1, 1, 1, 1, 1, 1, 2, 2, 2, 2, 2, 2,\n",
              "       2, 2, 2, 2, 2, 2, 2, 2, 2, 2, 2, 2, 2, 2, 2, 2, 2, 2, 2, 2, 2, 2,\n",
              "       2, 2])"
            ]
          },
          "metadata": {},
          "output_type": "display_data"
        },
        {
          "name": "stdout",
          "output_type": "stream",
          "text": [
            "time: 4.32 ms (started: 2023-12-07 17:23:10 +00:00)\n"
          ]
        }
      ],
      "source": [
        "target"
      ]
    },
    {
      "cell_type": "code",
      "execution_count": null,
      "metadata": {},
      "outputs": [
        {
          "data": {
            "text/plain": [
              "<BarContainer object of 3 artists>"
            ]
          },
          "metadata": {},
          "output_type": "display_data"
        },
        {
          "data": {
            "image/png": "[encoded data removed]",
            "text/plain": [
              "<Figure size 640x480 with 1 Axes>"
            ]
          },
          "metadata": {},
          "output_type": "display_data"
        },
        {
          "name": "stdout",
          "output_type": "stream",
          "text": [
            "time: 193 ms (started: 2023-12-07 17:26:24 +00:00)\n"
          ]
        }
      ],
      "source": [
        "unique,count = np.unique(target,return_counts = True)\n",
        "plt.bar(CATEGORIES,count)"
      ]
    }
  ],
  "metadata": {
    "colab": {
      "provenance": []
    },
    "kernelspec": {
      "display_name": "Python 3",
      "name": "python3"
    },
    "language_info": {
      "name": "python"
    }
  },
  "nbformat": 4,
  "nbformat_minor": 0
}
